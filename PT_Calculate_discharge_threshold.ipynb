{
 "cells": [
  {
   "cell_type": "markdown",
   "id": "7dbb04f6-fba5-41db-b55c-e021bb20c9f1",
   "metadata": {
    "tags": []
   },
   "source": [
    "# Exercício: cálculo dos limiares de alerta\n",
    "<br>\n",
    "<img style=\"float: left; padding-right: 15px; padding-left: 0px;\" src=\"source/thresholds_img.png\" width=\"400px\" align=”left” >\n",
    "\n",
    "<div style=\"text-align: justify\">Este é um Jupyter Notebook, um ambiente de desenvolvimento interactivo baseado na web que permite criar e partilhar códigos Python. <br>\n",
    "    \n",
    "No caderno de notas Jupyter, a Python shell está incorporada. A shell é onde se pode escrever e executar uma linha (ou múltiplas linhas) de código.\n",
    "\n",
    "<div style=\"text-align: justify\"> Como utilizar este Jupyter Notebook? Para executar cada bloco deve seleccioná-lo clicando com o rato e depois pode: <br>\n",
    "- clicar na seta cinzenta (>) na barra de ferramentas superior <br>\n",
    "ou <br>\n",
    "- executar o comando de teclado SHIFT+ENTER\n",
    "\n"
   ]
  },
  {
   "cell_type": "markdown",
   "id": "f91ae1be-3759-4e5c-a893-954d2692c7c7",
   "metadata": {},
   "source": [
    "## Objetivo do exercício\n",
    "O objectivo deste exercício é definir os limiares de alerta para uma secção fluvial através do cálculo dos valores de caudal significativos:\n",
    "* Valor **máximo** da séries temporais\n",
    "* Valor para um Período de Retorno de **10 anos**\n",
    "* Valor para um Período de Retorno de **100 anos**\n",
    "\n",
    "### O Período de Retorno\n",
    "A ocorrência de eventos (extremos) de inundação relevantes pode ser expressa como **período de retorno**, expressando o intervalo médio de recorrência de um evento de uma certa magnitude em unidades de tempo. É o inverso da **probabilidade de superação** (a probabilidade de um evento de certa magnitude ou superior).<br>\n",
    "Um pressuposto significativo no cálculo do período de retorno é que os eventos individuais são considerados independentes. Isto significa que, para um determinado ano, a probabilidade de ocorrência de uma inundação de 100 anos é de 1/100.\n",
    "Aqui abaixo uma tabela que mostra os intervalos de recorrência e as probabilidades de ocorrências relacionadas.\n",
    "\n",
    "| Período de retorno (anos) | Probabilidade anual de superação (%) |\n",
    "| --- | --- |\n",
    "| 2 | 50 |\n",
    "| 5 | 10 |\n",
    "| 10 | 10 |\n",
    "| 50 | 2 |\n",
    "| 100 | 1 |\n",
    "| 500 | 0.2 |\n",
    "\n",
    "## PASSO 1: importação da série temporal do fluxo para uma secção do rio\n",
    "A execução do próximo bloco de código permitir-lhe-á escolher uma secção fluvial dentro da bacia do Buzi. Os dados de fluxo reportados não são os \"observados\", mas sim simulados pelo modelo CONTINUUM (calibrado), executados durante um longo período de anos (corrida climatológica)."
   ]
  },
  {
   "cell_type": "markdown",
   "id": "ed7e3be3-9bb7-48a2-a7c1-1fd244219a94",
   "metadata": {},
   "source": [
    "from lib_input import *\n",
    "continuum_series, section_chooser = read_data()"
   ]
  },
  {
   "cell_type": "markdown",
   "id": "57c769dc-fcd7-44f5-af42-d3fbb0062590",
   "metadata": {},
   "source": [
    "## PASSO 2: hidrograma e selecção dos máximos anuais\n",
    "Depois podemos desenhar o hidrograma (a série temporal de fluxos) de 1980 a 2016 e destacar os máximos anuais, ou seja, os eventos \"relevantes\" sobre os quais a análise estatística será realizada para derivar os limiares de alerta.<br>\n",
    "**Pergunta**: Qual é o valor do descarga máximo da séries temporais?"
   ]
  },
  {
   "cell_type": "code",
   "execution_count": null,
   "id": "dae55550-3faa-49e4-af23-ea7034103159",
   "metadata": {},
   "outputs": [],
   "source": [
    "plot_series(continuum_series,section_chooser.value)"
   ]
  },
  {
   "cell_type": "markdown",
   "id": "106f431b-2516-4dc8-8f89-226c491c541b",
   "metadata": {},
   "source": [
    "## PASSO 3: ordenar os valores máximos por frequência\n",
    "Depois podemos calcular a frequência de cada máximo, para definir o seu tempo de retorno. Calculamos a **probabilidade de excedência** *Pr*, e o **período de retorno** (intervalo de recorrência) resultante.\n",
    "Pr is defined as: $Pr_{i} = \\frac{(n-i+1)}{n+1}$\\\n",
    "Onde *n* é o número total de anos de observação e *i* é a posição do evento. <br>\n",
    "Podemos traçar os valores num gráfico probabilístico com um eixo x logarítmico. Podemos também calcular uma linha de tendência (linha azul) entre os valores máximos disponíveis (pontos vermelhos). <br>\n",
    "**Pergunta**: Qual é o valor de descarga para um período de retorno de 10 anos?"
   ]
  },
  {
   "cell_type": "code",
   "execution_count": null,
   "id": "299cb6e0",
   "metadata": {},
   "outputs": [],
   "source": [
    "calculate_empirical_cdf(continuum_series,section_chooser.value)"
   ]
  },
  {
   "cell_type": "markdown",
   "id": "a5b7a682-ed0d-4d4d-a7bb-1ac233cb579a",
   "metadata": {},
   "source": [
    "## PASSO 4: Extrapolar para além dos valores disponíveis\n",
    "Não é certo que todos os eventos máximos tenham sido registados na nossa série temporal, que é provavelmente demasiado curta para identificar os valores mais extremos. Para extrapolar o período de retorno para além do período de observação (os valores de inundação de 1 em 200 anos, por exemplo) é necessário um modelo de previsão (Gumbel, GEV, etc.). <br>\n",
    "**Pergunta**: Qual é o valor de descarga para um período de retorno de 100 anos?"
   ]
  },
  {
   "cell_type": "code",
   "execution_count": null,
   "id": "e71a3fab",
   "metadata": {},
   "outputs": [],
   "source": [
    "extrapolate_cdf(continuum_series,section_chooser.value,Tmax=1000)"
   ]
  }
 ],
 "metadata": {
  "kernelspec": {
   "display_name": "Python 3",
   "language": "python",
   "name": "python3"
  },
  "language_info": {
   "codemirror_mode": {
    "name": "ipython",
    "version": 3
   },
   "file_extension": ".py",
   "mimetype": "text/x-python",
   "name": "python",
   "nbconvert_exporter": "python",
   "pygments_lexer": "ipython3",
   "version": "3.7.7"
  }
 },
 "nbformat": 4,
 "nbformat_minor": 5
}
